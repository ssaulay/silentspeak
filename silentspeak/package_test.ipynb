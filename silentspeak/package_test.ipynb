{
 "cells": [
  {
   "cell_type": "code",
   "execution_count": 72,
   "metadata": {},
   "outputs": [
    {
     "name": "stdout",
     "output_type": "stream",
     "text": [
      "The autoreload extension is already loaded. To reload it, use:\n",
      "  %reload_ext autoreload\n"
     ]
    }
   ],
   "source": [
    "%load_ext autoreload\n",
    "%autoreload 2"
   ]
  },
  {
   "attachments": {},
   "cell_type": "markdown",
   "metadata": {},
   "source": [
    "## Imports"
   ]
  },
  {
   "cell_type": "code",
   "execution_count": 73,
   "metadata": {},
   "outputs": [],
   "source": [
    "import os\n",
    "import tensorflow as tf\n",
    "import numpy as np\n",
    "import matplotlib.pyplot as plt\n",
    "import pandas as pd"
   ]
  },
  {
   "cell_type": "code",
   "execution_count": 74,
   "metadata": {},
   "outputs": [],
   "source": [
    "from silentspeak.loading import *\n",
    "from silentspeak.params import local_data_path, instance_data_path, data_size, data_source, n_frames\n",
    "from silentspeak.model import load_and_compile_model, checkpoint_callback, schedule_callback, predict_test\n",
    "from silentspeak.main import train, mappable_function"
   ]
  },
  {
   "cell_type": "code",
   "execution_count": 75,
   "metadata": {},
   "outputs": [
    {
     "data": {
      "text/plain": [
       "'/Users/ArthurPech/code/ssaulay/silentspeak/raw_data'"
      ]
     },
     "execution_count": 75,
     "metadata": {},
     "output_type": "execute_result"
    }
   ],
   "source": [
    "if data_source == \"local\":\n",
    "    data_path = local_data_path\n",
    "else:\n",
    "    data_path = instance_data_path\n",
    "    pass\n",
    "\n",
    "data_path"
   ]
  },
  {
   "cell_type": "code",
   "execution_count": 76,
   "metadata": {},
   "outputs": [
    {
     "data": {
      "text/html": [
       "<div>\n",
       "<style scoped>\n",
       "    .dataframe tbody tr th:only-of-type {\n",
       "        vertical-align: middle;\n",
       "    }\n",
       "\n",
       "    .dataframe tbody tr th {\n",
       "        vertical-align: top;\n",
       "    }\n",
       "\n",
       "    .dataframe thead th {\n",
       "        text-align: right;\n",
       "    }\n",
       "</style>\n",
       "<table border=\"1\" class=\"dataframe\">\n",
       "  <thead>\n",
       "    <tr style=\"text-align: right;\">\n",
       "      <th></th>\n",
       "      <th>char</th>\n",
       "      <th>num</th>\n",
       "    </tr>\n",
       "  </thead>\n",
       "  <tbody>\n",
       "    <tr>\n",
       "      <th>0</th>\n",
       "      <td>a</td>\n",
       "      <td>1</td>\n",
       "    </tr>\n",
       "    <tr>\n",
       "      <th>1</th>\n",
       "      <td>deux</td>\n",
       "      <td>2</td>\n",
       "    </tr>\n",
       "    <tr>\n",
       "      <th>2</th>\n",
       "      <td>i</td>\n",
       "      <td>3</td>\n",
       "    </tr>\n",
       "    <tr>\n",
       "      <th>3</th>\n",
       "      <td>O</td>\n",
       "      <td>4</td>\n",
       "    </tr>\n",
       "    <tr>\n",
       "      <th>4</th>\n",
       "      <td>E</td>\n",
       "      <td>5</td>\n",
       "    </tr>\n",
       "    <tr>\n",
       "      <th>5</th>\n",
       "      <td>S</td>\n",
       "      <td>6</td>\n",
       "    </tr>\n",
       "    <tr>\n",
       "      <th>6</th>\n",
       "      <td>Z</td>\n",
       "      <td>7</td>\n",
       "    </tr>\n",
       "    <tr>\n",
       "      <th>7</th>\n",
       "      <td>N</td>\n",
       "      <td>8</td>\n",
       "    </tr>\n",
       "    <tr>\n",
       "      <th>8</th>\n",
       "      <td>o</td>\n",
       "      <td>9</td>\n",
       "    </tr>\n",
       "    <tr>\n",
       "      <th>9</th>\n",
       "      <td>u</td>\n",
       "      <td>10</td>\n",
       "    </tr>\n",
       "    <tr>\n",
       "      <th>10</th>\n",
       "      <td>y</td>\n",
       "      <td>11</td>\n",
       "    </tr>\n",
       "    <tr>\n",
       "      <th>11</th>\n",
       "      <td>e</td>\n",
       "      <td>12</td>\n",
       "    </tr>\n",
       "    <tr>\n",
       "      <th>12</th>\n",
       "      <td>w</td>\n",
       "      <td>13</td>\n",
       "    </tr>\n",
       "    <tr>\n",
       "      <th>13</th>\n",
       "      <td>a~</td>\n",
       "      <td>14</td>\n",
       "    </tr>\n",
       "    <tr>\n",
       "      <th>14</th>\n",
       "      <td>U~</td>\n",
       "      <td>15</td>\n",
       "    </tr>\n",
       "    <tr>\n",
       "      <th>15</th>\n",
       "      <td>o~</td>\n",
       "      <td>16</td>\n",
       "    </tr>\n",
       "    <tr>\n",
       "      <th>16</th>\n",
       "      <td>neuf</td>\n",
       "      <td>17</td>\n",
       "    </tr>\n",
       "    <tr>\n",
       "      <th>17</th>\n",
       "      <td>p</td>\n",
       "      <td>18</td>\n",
       "    </tr>\n",
       "    <tr>\n",
       "      <th>18</th>\n",
       "      <td>t</td>\n",
       "      <td>19</td>\n",
       "    </tr>\n",
       "    <tr>\n",
       "      <th>19</th>\n",
       "      <td>k</td>\n",
       "      <td>20</td>\n",
       "    </tr>\n",
       "    <tr>\n",
       "      <th>20</th>\n",
       "      <td>b</td>\n",
       "      <td>21</td>\n",
       "    </tr>\n",
       "    <tr>\n",
       "      <th>21</th>\n",
       "      <td>d</td>\n",
       "      <td>22</td>\n",
       "    </tr>\n",
       "    <tr>\n",
       "      <th>22</th>\n",
       "      <td>g</td>\n",
       "      <td>23</td>\n",
       "    </tr>\n",
       "    <tr>\n",
       "      <th>23</th>\n",
       "      <td>f</td>\n",
       "      <td>24</td>\n",
       "    </tr>\n",
       "    <tr>\n",
       "      <th>24</th>\n",
       "      <td>s</td>\n",
       "      <td>25</td>\n",
       "    </tr>\n",
       "    <tr>\n",
       "      <th>25</th>\n",
       "      <td>v</td>\n",
       "      <td>26</td>\n",
       "    </tr>\n",
       "    <tr>\n",
       "      <th>26</th>\n",
       "      <td>z</td>\n",
       "      <td>27</td>\n",
       "    </tr>\n",
       "    <tr>\n",
       "      <th>27</th>\n",
       "      <td>m</td>\n",
       "      <td>28</td>\n",
       "    </tr>\n",
       "    <tr>\n",
       "      <th>28</th>\n",
       "      <td>n</td>\n",
       "      <td>29</td>\n",
       "    </tr>\n",
       "    <tr>\n",
       "      <th>29</th>\n",
       "      <td>l</td>\n",
       "      <td>30</td>\n",
       "    </tr>\n",
       "    <tr>\n",
       "      <th>30</th>\n",
       "      <td>R</td>\n",
       "      <td>31</td>\n",
       "    </tr>\n",
       "    <tr>\n",
       "      <th>31</th>\n",
       "      <td>j</td>\n",
       "      <td>32</td>\n",
       "    </tr>\n",
       "    <tr>\n",
       "      <th>32</th>\n",
       "      <td>H</td>\n",
       "      <td>33</td>\n",
       "    </tr>\n",
       "  </tbody>\n",
       "</table>\n",
       "</div>"
      ],
      "text/plain": [
       "    char  num\n",
       "0      a    1\n",
       "1   deux    2\n",
       "2      i    3\n",
       "3      O    4\n",
       "4      E    5\n",
       "5      S    6\n",
       "6      Z    7\n",
       "7      N    8\n",
       "8      o    9\n",
       "9      u   10\n",
       "10     y   11\n",
       "11     e   12\n",
       "12     w   13\n",
       "13    a~   14\n",
       "14    U~   15\n",
       "15    o~   16\n",
       "16  neuf   17\n",
       "17     p   18\n",
       "18     t   19\n",
       "19     k   20\n",
       "20     b   21\n",
       "21     d   22\n",
       "22     g   23\n",
       "23     f   24\n",
       "24     s   25\n",
       "25     v   26\n",
       "26     z   27\n",
       "27     m   28\n",
       "28     n   29\n",
       "29     l   30\n",
       "30     R   31\n",
       "31     j   32\n",
       "32     H   33"
      ]
     },
     "execution_count": 76,
     "metadata": {},
     "output_type": "execute_result"
    }
   ],
   "source": [
    "vocab_dict = [{\"char\" : char, \"num\" : char_to_num(char).numpy()} for char in vocab]\n",
    "vocab_df = pd.DataFrame.from_dict(vocab_dict)\n",
    "vocab_df"
   ]
  },
  {
   "attachments": {},
   "cell_type": "markdown",
   "metadata": {},
   "source": [
    "# Load Model"
   ]
  },
  {
   "cell_type": "code",
   "execution_count": 77,
   "metadata": {},
   "outputs": [
    {
     "name": "stdout",
     "output_type": "stream",
     "text": [
      "###### Defining model ######\n",
      "Model: \"sequential_2\"\n",
      "_________________________________________________________________\n",
      " Layer (type)                Output Shape              Param #   \n",
      "=================================================================\n",
      " conv3d_6 (Conv3D)           (None, 115, 54, 80, 64)   1792      \n",
      "                                                                 \n",
      " activation_6 (Activation)   (None, 115, 54, 80, 64)   0         \n",
      "                                                                 \n",
      " max_pooling3d_6 (MaxPooling  (None, 115, 27, 40, 64)  0         \n",
      " 3D)                                                             \n",
      "                                                                 \n",
      " conv3d_7 (Conv3D)           (None, 115, 27, 40, 128)  221312    \n",
      "                                                                 \n",
      " activation_7 (Activation)   (None, 115, 27, 40, 128)  0         \n",
      "                                                                 \n",
      " max_pooling3d_7 (MaxPooling  (None, 115, 13, 20, 128)  0        \n",
      " 3D)                                                             \n",
      "                                                                 \n",
      " conv3d_8 (Conv3D)           (None, 115, 13, 20, 48)   165936    \n",
      "                                                                 \n",
      " activation_8 (Activation)   (None, 115, 13, 20, 48)   0         \n",
      "                                                                 \n",
      " max_pooling3d_8 (MaxPooling  (None, 115, 6, 10, 48)   0         \n",
      " 3D)                                                             \n",
      "                                                                 \n",
      " time_distributed_2 (TimeDis  (None, 115, 2880)        0         \n",
      " tributed)                                                       \n",
      "                                                                 \n",
      " bidirectional_4 (Bidirectio  (None, 115, 256)         3081216   \n",
      " nal)                                                            \n",
      "                                                                 \n",
      " dropout_4 (Dropout)         (None, 115, 256)          0         \n",
      "                                                                 \n",
      " bidirectional_5 (Bidirectio  (None, 115, 256)         394240    \n",
      " nal)                                                            \n",
      "                                                                 \n",
      " dropout_5 (Dropout)         (None, 115, 256)          0         \n",
      "                                                                 \n",
      " dense_2 (Dense)             (None, 115, 35)           8995      \n",
      "                                                                 \n",
      "=================================================================\n",
      "Total params: 3,873,491\n",
      "Trainable params: 3,873,491\n",
      "Non-trainable params: 0\n",
      "_________________________________________________________________\n",
      "None\n",
      "###### Compiling model ######\n"
     ]
    }
   ],
   "source": [
    "model = load_and_compile_model()"
   ]
  },
  {
   "cell_type": "code",
   "execution_count": 78,
   "metadata": {},
   "outputs": [
    {
     "data": {
      "text/plain": [
       "<keras.engine.sequential.Sequential at 0x164209960>"
      ]
     },
     "execution_count": 78,
     "metadata": {},
     "output_type": "execute_result"
    }
   ],
   "source": [
    "model"
   ]
  },
  {
   "attachments": {},
   "cell_type": "markdown",
   "metadata": {},
   "source": [
    "# Load Data"
   ]
  },
  {
   "cell_type": "code",
   "execution_count": 79,
   "metadata": {},
   "outputs": [],
   "source": [
    "# Params\n",
    "epochs = 10\n",
    "batch_size = 2\n",
    "padded_frames_shape = [n_frames,None,None,None]\n",
    "padded_transcripts_shape = [50]\n",
    "train_size = 10\n",
    "callbacks = [checkpoint_callback, schedule_callback]\n"
   ]
  },
  {
   "cell_type": "code",
   "execution_count": 80,
   "metadata": {},
   "outputs": [],
   "source": [
    "# Load data\n",
    "data = tf.data.Dataset.list_files(\n",
    "    os.path.join(data_path, data_size, \"videos\", \"*.avi\")\n",
    "    )\n",
    "data = data.map(mappable_function)\n",
    "data = data.padded_batch(\n",
    "    batch_size,\n",
    "    padded_shapes = (padded_frames_shape, padded_transcripts_shape))\n",
    "data = data.prefetch(tf.data.AUTOTUNE)"
   ]
  },
  {
   "cell_type": "code",
   "execution_count": 81,
   "metadata": {},
   "outputs": [],
   "source": [
    "# Train / Test\n",
    "# NOT USED\n",
    "train = data.take(train_size)\n",
    "test = data.skip(train_size)"
   ]
  },
  {
   "cell_type": "code",
   "execution_count": 82,
   "metadata": {},
   "outputs": [
    {
     "data": {
      "text/plain": [
       "(tuple, 2)"
      ]
     },
     "execution_count": 82,
     "metadata": {},
     "output_type": "execute_result"
    }
   ],
   "source": [
    "# SAMPLE FOR TEST\n",
    "# ---> a batch of 2 couples of X (frames) and y (num transcripts)\n",
    "# ---> val[0] = 2 videos\n",
    "# ---> val[1] = 2 frames\n",
    "sample = data.as_numpy_iterator()\n",
    "val = sample.next()\n",
    "type(val), len(val)"
   ]
  },
  {
   "cell_type": "code",
   "execution_count": 83,
   "metadata": {},
   "outputs": [
    {
     "data": {
      "text/plain": [
       "<matplotlib.image.AxesImage at 0x162f23970>"
      ]
     },
     "execution_count": 83,
     "metadata": {},
     "output_type": "execute_result"
    },
    {
     "data": {
      "image/png": "[encoded data removed]",
      "text/plain": [
       "<Figure size 640x480 with 1 Axes>"
      ]
     },
     "metadata": {},
     "output_type": "display_data"
    }
   ],
   "source": [
    "# 1st Video of the 2 videos in the sample batch\n",
    "# Frame #10\n",
    "plt.imshow(val[0][0][10], cmap = \"gray\")"
   ]
  },
  {
   "cell_type": "code",
   "execution_count": 84,
   "metadata": {},
   "outputs": [
    {
     "data": {
      "text/plain": [
       "array([11, 29, 20, 12, 21, 12, 20, 13,  1, 27, 18, 30, 17, 31, 29,  3,  6,\n",
       "        2, 27, 21, 14, 22,  3,  2, 20, 30,  3, 22, 30,  4, 31, 22, 12, 31,\n",
       "       12, 11, 29, 32, 16,  0,  0,  0,  0,  0,  0,  0,  0,  0,  0,  0])"
      ]
     },
     "execution_count": 84,
     "metadata": {},
     "output_type": "execute_result"
    }
   ],
   "source": [
    "val[1][0]"
   ]
  },
  {
   "cell_type": "code",
   "execution_count": 85,
   "metadata": {},
   "outputs": [
    {
     "data": {
      "text/plain": [
       "<tf.Tensor: shape=(), dtype=string, numpy=b'y.n.k.e.b.e.k.w.a.z.p.l.neuf.R.n.i.S.deux.z.b.a~.d.i.deux.k.l.i.d.l.O.R.d.e.R.e.y.n.j.o~...........'>"
      ]
     },
     "execution_count": 85,
     "metadata": {},
     "output_type": "execute_result"
    }
   ],
   "source": [
    "# 1st transcript of the 2 transcripts in the batch\n",
    "tf.strings.reduce_join(\n",
    "    [num_to_char(word) for word in val[1][0]],\n",
    "    separator = \".\")"
   ]
  },
  {
   "attachments": {},
   "cell_type": "markdown",
   "metadata": {},
   "source": [
    "# Test model before train"
   ]
  },
  {
   "cell_type": "code",
   "execution_count": 86,
   "metadata": {},
   "outputs": [
    {
     "data": {
      "text/plain": [
       "((2, 115, 54, 80, 1), (2, 50))"
      ]
     },
     "execution_count": 86,
     "metadata": {},
     "output_type": "execute_result"
    }
   ],
   "source": [
    "val[0].shape, val[1].shape"
   ]
  },
  {
   "cell_type": "code",
   "execution_count": 87,
   "metadata": {},
   "outputs": [
    {
     "name": "stdout",
     "output_type": "stream",
     "text": [
      "1/1 [==============================] - 10s 10s/step\n"
     ]
    },
    {
     "data": {
      "text/plain": [
       "(2, 115, 35)"
      ]
     },
     "execution_count": 87,
     "metadata": {},
     "output_type": "execute_result"
    }
   ],
   "source": [
    "# On ne prédit que les vidéos, sans les transcripts\n",
    "# mais on prédit 2 vidéos d'un coup --> prédit 2 séquences de 115 probabilités à 35 possibilités\n",
    "yhat = model.predict(val[0])\n",
    "yhat.shape"
   ]
  },
  {
   "cell_type": "code",
   "execution_count": 88,
   "metadata": {},
   "outputs": [
    {
     "name": "stdout",
     "output_type": "stream",
     "text": [
      "(115, 35)\n",
      "[0.03989349 0.03600574 0.02392587 0.02346541 0.03400773 0.03185267\n",
      " 0.02381143 0.02374934 0.03890927 0.03601625 0.01675161 0.03694653\n",
      " 0.03495716 0.02429385 0.02073014 0.0316539  0.03597581 0.02363571\n",
      " 0.02110918 0.02735558 0.03277517 0.0250142  0.02991413 0.0356871\n",
      " 0.0241957  0.02941576 0.03050995 0.02682928 0.03622901 0.02760277\n",
      " 0.02453719 0.02384797 0.01984908 0.02007321 0.02847272]\n"
     ]
    },
    {
     "data": {
      "text/plain": [
       "(0, <tf.Tensor: shape=(), dtype=string, numpy=b''>)"
      ]
     },
     "execution_count": 88,
     "metadata": {},
     "output_type": "execute_result"
    }
   ],
   "source": [
    "# Prediction = Probabilities d'obtenir chacun des 35 caractères\n",
    "print(yhat[0].shape) # 115 sequences x 35 probabilities\n",
    "print(yhat[0][1]) # The first set of 35 probabilities\n",
    "np.argmax(yhat[0][1]), num_to_char(np.argmax(yhat[0][0]))"
   ]
  },
  {
   "cell_type": "code",
   "execution_count": 89,
   "metadata": {},
   "outputs": [
    {
     "data": {
      "text/plain": [
       "<tf.Tensor: shape=(), dtype=string, numpy=b'..N.N.N.N.N.N.N.N.N.N.N.N.N.N.o.o.o.o.o.o.o.o.o.o.o.o.o.o.o.o.o.o.o.o.o.o.o.o.o.o.o.o.o.o.o.o.o.o.o.......o.o.o.o.o.o.o.o.o....N.a.a.a.a.a.N.N.N.N.N.N.N.N.N.N.N.N.N.N.N.N.N.N.N.N.N.N.N.N.N.N.N.N.N.N.N.N.N.N.N.N.N.N.N.N'>"
      ]
     },
     "execution_count": 89,
     "metadata": {},
     "output_type": "execute_result"
    }
   ],
   "source": [
    "# Decode the prediction\n",
    "tf.strings.reduce_join(\n",
    "    [num_to_char(tf.argmax(x)) for x in yhat[0]],\n",
    "    separator = \".\"\n",
    "    )"
   ]
  },
  {
   "cell_type": "code",
   "execution_count": 90,
   "metadata": {},
   "outputs": [
    {
     "data": {
      "text/plain": [
       "([<tf.Tensor: shape=(1, 115), dtype=int64, numpy=\n",
       "  array([[ 0,  8,  9,  0,  9,  0,  8,  1,  8, -1, -1, -1, -1, -1, -1, -1,\n",
       "          -1, -1, -1, -1, -1, -1, -1, -1, -1, -1, -1, -1, -1, -1, -1, -1,\n",
       "          -1, -1, -1, -1, -1, -1, -1, -1, -1, -1, -1, -1, -1, -1, -1, -1,\n",
       "          -1, -1, -1, -1, -1, -1, -1, -1, -1, -1, -1, -1, -1, -1, -1, -1,\n",
       "          -1, -1, -1, -1, -1, -1, -1, -1, -1, -1, -1, -1, -1, -1, -1, -1,\n",
       "          -1, -1, -1, -1, -1, -1, -1, -1, -1, -1, -1, -1, -1, -1, -1, -1,\n",
       "          -1, -1, -1, -1, -1, -1, -1, -1, -1, -1, -1, -1, -1, -1, -1, -1,\n",
       "          -1, -1, -1]])>],\n",
       " <tf.Tensor: shape=(1, 1), dtype=float32, numpy=array([[367.03687]], dtype=float32)>)"
      ]
     },
     "execution_count": 90,
     "metadata": {},
     "output_type": "execute_result"
    }
   ],
   "source": [
    "decoded = tf.keras.backend.ctc_decode(\n",
    "    tf.expand_dims(yhat[0], axis = 0),\n",
    "    input_length=[n_frames],\n",
    "    greedy=True)\n",
    "#[0][0].numpy()\n",
    "\n",
    "decoded"
   ]
  },
  {
   "attachments": {},
   "cell_type": "markdown",
   "metadata": {},
   "source": [
    "# Train the model"
   ]
  },
  {
   "cell_type": "code",
   "execution_count": 91,
   "metadata": {},
   "outputs": [],
   "source": [
    "# Environ 3'30 par époque sur mon pc"
   ]
  },
  {
   "cell_type": "code",
   "execution_count": 92,
   "metadata": {},
   "outputs": [
    {
     "name": "stdout",
     "output_type": "stream",
     "text": [
      "Epoch 1/50\n",
      "6/6 [==============================] - 211s 31s/step - loss: 280.2718 - lr: 1.0000e-04\n",
      "Epoch 2/50\n",
      "6/6 [==============================] - 145s 23s/step - loss: 226.7440 - lr: 1.0000e-04\n",
      "Epoch 3/50\n",
      "6/6 [==============================] - 145s 23s/step - loss: 204.7615 - lr: 1.0000e-04\n",
      "Epoch 4/50\n",
      "6/6 [==============================] - 201s 34s/step - loss: 181.7104 - lr: 1.0000e-04\n",
      "Epoch 5/50\n",
      "6/6 [==============================] - 220s 36s/step - loss: 148.0317 - lr: 1.0000e-04\n",
      "Epoch 6/50\n",
      "6/6 [==============================] - 145s 24s/step - loss: 119.6495 - lr: 1.0000e-04\n",
      "Epoch 7/50\n",
      "6/6 [==============================] - 145s 23s/step - loss: 112.4206 - lr: 1.0000e-04\n",
      "Epoch 8/50\n",
      "6/6 [==============================] - 145s 23s/step - loss: 107.4943 - lr: 1.0000e-04\n",
      "Epoch 9/50\n",
      "6/6 [==============================] - 147s 24s/step - loss: 104.4442 - lr: 1.0000e-04\n",
      "Epoch 10/50\n",
      "6/6 [==============================] - 1194s 27s/step - loss: 103.9870 - lr: 1.0000e-04\n",
      "Epoch 11/50\n",
      "6/6 [==============================] - 150s 24s/step - loss: 101.7557 - lr: 1.0000e-04\n",
      "Epoch 12/50\n",
      "6/6 [==============================] - 148s 24s/step - loss: 100.4445 - lr: 1.0000e-04\n",
      "Epoch 13/50\n",
      "6/6 [==============================] - 146s 23s/step - loss: 99.1145 - lr: 1.0000e-04\n",
      "Epoch 14/50\n",
      "6/6 [==============================] - 28887s 5772s/step - loss: 96.8385 - lr: 1.0000e-04\n",
      "Epoch 15/50\n",
      "6/6 [==============================] - 189s 29s/step - loss: 96.9478 - lr: 1.0000e-04\n",
      "Epoch 16/50\n",
      "6/6 [==============================] - 159s 24s/step - loss: 95.8078 - lr: 1.0000e-04\n",
      "Epoch 17/50\n",
      "6/6 [==============================] - 147s 24s/step - loss: 93.1971 - lr: 1.0000e-04\n",
      "Epoch 18/50\n",
      "6/6 [==============================] - 147s 24s/step - loss: 94.8424 - lr: 1.0000e-04\n",
      "Epoch 19/50\n",
      "6/6 [==============================] - 148s 23s/step - loss: 91.8789 - lr: 1.0000e-04\n",
      "Epoch 20/50\n",
      "6/6 [==============================] - 1479s 290s/step - loss: 91.1439 - lr: 1.0000e-04\n",
      "Epoch 21/50\n",
      "6/6 [==============================] - 169s 26s/step - loss: 90.2080 - lr: 1.0000e-04\n",
      "Epoch 22/50\n",
      "6/6 [==============================] - 146s 24s/step - loss: 90.7308 - lr: 1.0000e-04\n",
      "Epoch 23/50\n",
      "6/6 [==============================] - 147s 24s/step - loss: 89.0396 - lr: 1.0000e-04\n",
      "Epoch 24/50\n",
      "6/6 [==============================] - 147s 24s/step - loss: 89.7839 - lr: 1.0000e-04\n",
      "Epoch 25/50\n",
      "6/6 [==============================] - 3980s 790s/step - loss: 87.9518 - lr: 1.0000e-04\n",
      "Epoch 26/50\n",
      "6/6 [==============================] - 166s 27s/step - loss: 86.2046 - lr: 1.0000e-04\n",
      "Epoch 27/50\n",
      "6/6 [==============================] - 169s 27s/step - loss: 87.6255 - lr: 1.0000e-04\n",
      "Epoch 28/50\n",
      "6/6 [==============================] - 166s 27s/step - loss: 85.9582 - lr: 1.0000e-04\n",
      "Epoch 29/50\n",
      "6/6 [==============================] - 171s 27s/step - loss: 85.5151 - lr: 1.0000e-04\n",
      "Epoch 30/50\n",
      "6/6 [==============================] - 167s 27s/step - loss: 85.4102 - lr: 1.0000e-04\n",
      "Epoch 31/50\n",
      "6/6 [==============================] - 167s 27s/step - loss: 84.5342 - lr: 9.0484e-05\n",
      "Epoch 32/50\n",
      "6/6 [==============================] - 167s 27s/step - loss: 86.1385 - lr: 8.1873e-05\n",
      "Epoch 33/50\n",
      "6/6 [==============================] - 1898s 265s/step - loss: 82.8951 - lr: 7.4082e-05\n",
      "Epoch 34/50\n",
      "6/6 [==============================] - 186s 27s/step - loss: 84.0574 - lr: 6.7032e-05\n",
      "Epoch 35/50\n",
      "6/6 [==============================] - 164s 26s/step - loss: 84.0890 - lr: 6.0653e-05\n",
      "Epoch 36/50\n",
      "6/6 [==============================] - 164s 27s/step - loss: 83.8647 - lr: 5.4881e-05\n",
      "Epoch 37/50\n",
      "6/6 [==============================] - 966s 187s/step - loss: 83.5713 - lr: 4.9659e-05\n",
      "Epoch 38/50\n",
      "6/6 [==============================] - 176s 28s/step - loss: 82.5342 - lr: 4.4933e-05\n",
      "Epoch 39/50\n",
      "6/6 [==============================] - 172s 27s/step - loss: 81.7036 - lr: 4.0657e-05\n",
      "Epoch 40/50\n",
      "6/6 [==============================] - 172s 28s/step - loss: 82.8798 - lr: 3.6788e-05\n",
      "Epoch 41/50\n",
      "6/6 [==============================] - 166s 27s/step - loss: 82.0414 - lr: 3.3287e-05\n",
      "Epoch 42/50\n",
      "6/6 [==============================] - 170s 27s/step - loss: 82.4203 - lr: 3.0119e-05\n",
      "Epoch 43/50\n",
      "6/6 [==============================] - 176s 28s/step - loss: 82.3617 - lr: 2.7253e-05\n",
      "Epoch 44/50\n",
      "6/6 [==============================] - 176s 28s/step - loss: 81.4516 - lr: 2.4660e-05\n",
      "Epoch 45/50\n",
      "6/6 [==============================] - 186s 30s/step - loss: 81.8556 - lr: 2.2313e-05\n",
      "Epoch 46/50\n",
      "6/6 [==============================] - 246s 41s/step - loss: 81.6384 - lr: 2.0190e-05\n",
      "Epoch 47/50\n",
      "6/6 [==============================] - 175s 28s/step - loss: 80.7875 - lr: 1.8268e-05\n",
      "Epoch 48/50\n",
      "6/6 [==============================] - 205s 34s/step - loss: 81.2723 - lr: 1.6530e-05\n",
      "Epoch 49/50\n",
      "6/6 [==============================] - 209s 33s/step - loss: 80.5931 - lr: 1.4957e-05\n",
      "Epoch 50/50\n",
      "6/6 [==============================] - 206s 34s/step - loss: 80.8439 - lr: 1.3534e-05\n"
     ]
    },
    {
     "data": {
      "text/plain": [
       "<keras.callbacks.History at 0x164479150>"
      ]
     },
     "execution_count": 92,
     "metadata": {},
     "output_type": "execute_result"
    }
   ],
   "source": [
    "model.fit(\n",
    "        data,\n",
    "        epochs = 50,\n",
    "        callbacks = callbacks\n",
    "        )"
   ]
  },
  {
   "cell_type": "code",
   "execution_count": 101,
   "metadata": {},
   "outputs": [],
   "source": [
    "models_path = os.path.join(data_path, \"..\", \"models\")\n",
    "model.save(os.path.join(models_path, \"model_50.h5\"))"
   ]
  },
  {
   "attachments": {},
   "cell_type": "markdown",
   "metadata": {},
   "source": [
    "# Predict after train"
   ]
  },
  {
   "cell_type": "code",
   "execution_count": 93,
   "metadata": {},
   "outputs": [
    {
     "name": "stdout",
     "output_type": "stream",
     "text": [
      "1/1 [==============================] - 7s 7s/step\n"
     ]
    }
   ],
   "source": [
    "# Predict 2 videos\n",
    "yhat_after = model.predict(val[0])"
   ]
  },
  {
   "cell_type": "code",
   "execution_count": 94,
   "metadata": {},
   "outputs": [
    {
     "data": {
      "text/plain": [
       "(2, 115, 35)"
      ]
     },
     "execution_count": 94,
     "metadata": {},
     "output_type": "execute_result"
    }
   ],
   "source": [
    "# Predict 2 transcripts\n",
    "yhat_after.shape"
   ]
  },
  {
   "cell_type": "code",
   "execution_count": 95,
   "metadata": {},
   "outputs": [
    {
     "data": {
      "text/plain": [
       "array([[6.6689248e-03, 4.9116418e-02, 6.0671709e-02, ..., 2.3884919e-02,\n",
       "        4.7447234e-03, 3.5515696e-02],\n",
       "       [8.7665701e-03, 5.3816408e-02, 5.7486117e-02, ..., 2.4384188e-02,\n",
       "        4.0612556e-03, 4.7229569e-02],\n",
       "       [1.0817815e-02, 5.5060580e-02, 5.6182325e-02, ..., 2.4669716e-02,\n",
       "        3.5782706e-03, 5.9087008e-02],\n",
       "       ...,\n",
       "       [4.8339477e-01, 1.8094832e-04, 2.3973861e-04, ..., 3.3588213e-04,\n",
       "        4.7793805e-05, 5.0944895e-01],\n",
       "       [4.7015193e-01, 4.0837319e-04, 6.8676559e-04, ..., 9.2483405e-04,\n",
       "        1.4165993e-04, 5.1188880e-01],\n",
       "       [4.4255182e-01, 1.0556794e-03, 2.1840415e-03, ..., 2.9845508e-03,\n",
       "        5.3026906e-04, 5.0451839e-01]], dtype=float32)"
      ]
     },
     "execution_count": 95,
     "metadata": {},
     "output_type": "execute_result"
    }
   ],
   "source": [
    "# 1st prediction\n",
    "yhat_after[0]"
   ]
  },
  {
   "cell_type": "code",
   "execution_count": 96,
   "metadata": {},
   "outputs": [
    {
     "data": {
      "text/plain": [
       "(29, <tf.Tensor: shape=(), dtype=string, numpy=b'n'>)"
      ]
     },
     "execution_count": 96,
     "metadata": {},
     "output_type": "execute_result"
    }
   ],
   "source": [
    "np.argmax(yhat_after[0][1]), num_to_char(np.argmax(yhat_after[0][0]))"
   ]
  },
  {
   "cell_type": "code",
   "execution_count": 97,
   "metadata": {},
   "outputs": [
    {
     "data": {
      "text/plain": [
       "<tf.Tensor: shape=(), dtype=string, numpy=b'n.n.n.i...............................................................................................................'>"
      ]
     },
     "execution_count": 97,
     "metadata": {},
     "output_type": "execute_result"
    }
   ],
   "source": [
    "# Decode the 1st prediction\n",
    "tf.strings.reduce_join(\n",
    "    [num_to_char(tf.argmax(x)) for x in yhat_after[0]],\n",
    "    separator = \".\"\n",
    "    )"
   ]
  },
  {
   "cell_type": "code",
   "execution_count": 98,
   "metadata": {},
   "outputs": [
    {
     "data": {
      "text/plain": [
       "(115, 35)"
      ]
     },
     "execution_count": 98,
     "metadata": {},
     "output_type": "execute_result"
    }
   ],
   "source": [
    "yhat_after[0].shape"
   ]
  },
  {
   "cell_type": "code",
   "execution_count": 99,
   "metadata": {},
   "outputs": [
    {
     "data": {
      "text/plain": [
       "([<tf.Tensor: shape=(1, 115), dtype=int64, numpy=\n",
       "  array([[29,  3,  0, -1, -1, -1, -1, -1, -1, -1, -1, -1, -1, -1, -1, -1,\n",
       "          -1, -1, -1, -1, -1, -1, -1, -1, -1, -1, -1, -1, -1, -1, -1, -1,\n",
       "          -1, -1, -1, -1, -1, -1, -1, -1, -1, -1, -1, -1, -1, -1, -1, -1,\n",
       "          -1, -1, -1, -1, -1, -1, -1, -1, -1, -1, -1, -1, -1, -1, -1, -1,\n",
       "          -1, -1, -1, -1, -1, -1, -1, -1, -1, -1, -1, -1, -1, -1, -1, -1,\n",
       "          -1, -1, -1, -1, -1, -1, -1, -1, -1, -1, -1, -1, -1, -1, -1, -1,\n",
       "          -1, -1, -1, -1, -1, -1, -1, -1, -1, -1, -1, -1, -1, -1, -1, -1,\n",
       "          -1, -1, -1]])>],\n",
       " <tf.Tensor: shape=(1, 1), dtype=float32, numpy=array([[86.00624]], dtype=float32)>)"
      ]
     },
     "execution_count": 99,
     "metadata": {},
     "output_type": "execute_result"
    }
   ],
   "source": [
    "decoded_after = tf.keras.backend.ctc_decode(\n",
    "    tf.expand_dims(yhat_after[0], axis = 0),\n",
    "    input_length=[n_frames],\n",
    "    greedy=True)\n",
    "#[0][0].numpy()\n",
    "\n",
    "decoded_after"
   ]
  },
  {
   "cell_type": "code",
   "execution_count": 103,
   "metadata": {},
   "outputs": [
    {
     "name": "stdout",
     "output_type": "stream",
     "text": [
      "~~~~~~~~~~~~~~~~~~~~~~~~~~~~~~~~~~~~~~~~~~~~~~~~~~~~~~~~~~~~~~~~~~~~~~~~~~~~~~~~~~~~~~~~~~~~~~~~~~~~ PREDICTIONS\n"
     ]
    },
    {
     "data": {
      "text/plain": [
       "[<tf.Tensor: shape=(), dtype=string, numpy=b'ni'>,\n",
       " <tf.Tensor: shape=(), dtype=string, numpy=b''>]"
      ]
     },
     "execution_count": 103,
     "metadata": {},
     "output_type": "execute_result"
    }
   ],
   "source": [
    "print('~'*100, 'PREDICTIONS')\n",
    "[tf.strings.reduce_join([num_to_char(word) for word in sentence]) for sentence in decoded_after]"
   ]
  },
  {
   "attachments": {},
   "cell_type": "markdown",
   "metadata": {},
   "source": [
    "# Test sur le vocab size"
   ]
  },
  {
   "cell_type": "code",
   "execution_count": 100,
   "metadata": {},
   "outputs": [
    {
     "name": "stdout",
     "output_type": "stream",
     "text": [
      "0 ['']\n",
      "1 ['a']\n",
      "2 ['deux']\n",
      "3 ['i']\n",
      "4 ['O']\n",
      "5 ['E']\n",
      "6 ['S']\n",
      "7 ['Z']\n",
      "8 ['N']\n",
      "9 ['o']\n",
      "10 ['u']\n",
      "11 ['y']\n",
      "12 ['e']\n",
      "13 ['w']\n",
      "14 ['a~']\n",
      "15 ['U~']\n",
      "16 ['o~']\n",
      "17 ['neuf']\n",
      "18 ['p']\n",
      "19 ['t']\n",
      "20 ['k']\n",
      "21 ['b']\n",
      "22 ['d']\n",
      "23 ['g']\n",
      "24 ['f']\n",
      "25 ['s']\n",
      "26 ['v']\n",
      "27 ['z']\n",
      "28 ['m']\n",
      "29 ['n']\n",
      "30 ['l']\n",
      "31 ['R']\n",
      "32 ['j']\n",
      "33 ['H']\n",
      "34 ['']\n"
     ]
    }
   ],
   "source": [
    "for i in range(35):\n",
    "    print(i, [num_to_char(i).numpy().decode()])"
   ]
  },
  {
   "cell_type": "code",
   "execution_count": null,
   "metadata": {},
   "outputs": [],
   "source": []
  }
 ],
 "metadata": {
  "kernelspec": {
   "display_name": "silentspeak",
   "language": "python",
   "name": "python3"
  },
  "language_info": {
   "codemirror_mode": {
    "name": "ipython",
    "version": 3
   },
   "file_extension": ".py",
   "mimetype": "text/x-python",
   "name": "python",
   "nbconvert_exporter": "python",
   "pygments_lexer": "ipython3",
   "version": "3.10.6"
  },
  "orig_nbformat": 4
 },
 "nbformat": 4,
 "nbformat_minor": 2
}
